{
 "cells": [
  {
   "cell_type": "code",
   "execution_count": 28,
   "id": "a27c1dfa",
   "metadata": {},
   "outputs": [
    {
     "name": "stderr",
     "output_type": "stream",
     "text": [
      "[nltk_data] Downloading package stopwords to\n",
      "[nltk_data]     C:\\Users\\iRube\\AppData\\Roaming\\nltk_data...\n",
      "[nltk_data]   Package stopwords is already up-to-date!\n"
     ]
    }
   ],
   "source": [
    "#imports\n",
    "\n",
    "import pandas as pd\n",
    "import matplotlib.pyplot as plt\n",
    "import seaborn as sns\n",
    "import os\n",
    "#regex\n",
    "import re"
   ]
  },
  {
   "cell_type": "code",
   "execution_count": 29,
   "id": "70068449",
   "metadata": {},
   "outputs": [],
   "source": [
    " #creating a dataframe from csv file\n",
    "\n",
    "cwd = os.getcwd()\n",
    "\n",
    "df = pd.read_csv(cwd+\"/reviews_BA.csv\", index_col=0)"
   ]
  },
  {
   "cell_type": "code",
   "execution_count": 30,
   "id": "6a3cab6a",
   "metadata": {},
   "outputs": [
    {
     "data": {
      "text/html": [
       "<div>\n",
       "<style scoped>\n",
       "    .dataframe tbody tr th:only-of-type {\n",
       "        vertical-align: middle;\n",
       "    }\n",
       "\n",
       "    .dataframe tbody tr th {\n",
       "        vertical-align: top;\n",
       "    }\n",
       "\n",
       "    .dataframe thead th {\n",
       "        text-align: right;\n",
       "    }\n",
       "</style>\n",
       "<table border=\"1\" class=\"dataframe\">\n",
       "  <thead>\n",
       "    <tr style=\"text-align: right;\">\n",
       "      <th></th>\n",
       "      <th>reviews</th>\n",
       "      <th>stars</th>\n",
       "      <th>date</th>\n",
       "      <th>country</th>\n",
       "    </tr>\n",
       "  </thead>\n",
       "  <tbody>\n",
       "    <tr>\n",
       "      <th>0</th>\n",
       "      <td>✅ Trip Verified |  I flew London to Malaga on ...</td>\n",
       "      <td>\\n\\t\\t\\t\\t\\t\\t\\t\\t\\t\\t\\t\\t\\t5</td>\n",
       "      <td>30th August 2023</td>\n",
       "      <td>United Kingdom</td>\n",
       "    </tr>\n",
       "    <tr>\n",
       "      <th>1</th>\n",
       "      <td>✅ Trip Verified |  I arrived at the airport ab...</td>\n",
       "      <td>1</td>\n",
       "      <td>30th August 2023</td>\n",
       "      <td>Germany</td>\n",
       "    </tr>\n",
       "    <tr>\n",
       "      <th>2</th>\n",
       "      <td>✅ Trip Verified |  Filthy plane, cabin staff o...</td>\n",
       "      <td>1</td>\n",
       "      <td>28th August 2023</td>\n",
       "      <td>United Kingdom</td>\n",
       "    </tr>\n",
       "    <tr>\n",
       "      <th>3</th>\n",
       "      <td>✅ Trip Verified |   Chaos at Terminal 5 with B...</td>\n",
       "      <td>1</td>\n",
       "      <td>27th August 2023</td>\n",
       "      <td>United Kingdom</td>\n",
       "    </tr>\n",
       "    <tr>\n",
       "      <th>4</th>\n",
       "      <td>Not Verified |  BA cancelled our flight and co...</td>\n",
       "      <td>3</td>\n",
       "      <td>27th August 2023</td>\n",
       "      <td>United Kingdom</td>\n",
       "    </tr>\n",
       "  </tbody>\n",
       "</table>\n",
       "</div>"
      ],
      "text/plain": [
       "                                             reviews  \\\n",
       "0  ✅ Trip Verified |  I flew London to Malaga on ...   \n",
       "1  ✅ Trip Verified |  I arrived at the airport ab...   \n",
       "2  ✅ Trip Verified |  Filthy plane, cabin staff o...   \n",
       "3  ✅ Trip Verified |   Chaos at Terminal 5 with B...   \n",
       "4  Not Verified |  BA cancelled our flight and co...   \n",
       "\n",
       "                           stars              date         country  \n",
       "0  \\n\\t\\t\\t\\t\\t\\t\\t\\t\\t\\t\\t\\t\\t5  30th August 2023  United Kingdom  \n",
       "1                              1  30th August 2023         Germany  \n",
       "2                              1  28th August 2023  United Kingdom  \n",
       "3                              1  27th August 2023  United Kingdom  \n",
       "4                              3  27th August 2023  United Kingdom  "
      ]
     },
     "execution_count": 30,
     "metadata": {},
     "output_type": "execute_result"
    }
   ],
   "source": [
    "df.head()"
   ]
  },
  {
   "cell_type": "code",
   "execution_count": 31,
   "id": "53df651f",
   "metadata": {},
   "outputs": [],
   "source": [
    "#making a new column to check if the user is verified or not"
   ]
  },
  {
   "cell_type": "code",
   "execution_count": 32,
   "id": "5915f576",
   "metadata": {},
   "outputs": [],
   "source": [
    "df['verified'] = df.reviews.str.contains(\"Trip Verified\")"
   ]
  },
  {
   "cell_type": "code",
   "execution_count": 33,
   "id": "7cda44d2",
   "metadata": {},
   "outputs": [
    {
     "data": {
      "text/plain": [
       "0        True\n",
       "1        True\n",
       "2        True\n",
       "3        True\n",
       "4       False\n",
       "        ...  \n",
       "7265    False\n",
       "7266    False\n",
       "7267    False\n",
       "7268    False\n",
       "7269    False\n",
       "Name: verified, Length: 7270, dtype: bool"
      ]
     },
     "execution_count": 33,
     "metadata": {},
     "output_type": "execute_result"
    }
   ],
   "source": [
    "df['verified']"
   ]
  },
  {
   "cell_type": "code",
   "execution_count": 40,
   "id": "8dfb9eb2",
   "metadata": {},
   "outputs": [
    {
     "name": "stdout",
     "output_type": "stream",
     "text": [
      "showing info https://raw.githubusercontent.com/nltk/nltk_data/gh-pages/index.xml\n"
     ]
    },
    {
     "name": "stderr",
     "output_type": "stream",
     "text": [
      "[nltk_data] Downloading package wordnet to\n",
      "[nltk_data]     C:\\Users\\iRube\\AppData\\Roaming\\nltk_data...\n",
      "[nltk_data]   Package wordnet is already up-to-date!\n"
     ]
    },
    {
     "data": {
      "text/plain": [
       "True"
      ]
     },
     "execution_count": 40,
     "metadata": {},
     "output_type": "execute_result"
    }
   ],
   "source": [
    "import nltk\n",
    "nltk.download()\n",
    "nltk.download('wordnet')"
   ]
  },
  {
   "cell_type": "code",
   "execution_count": 41,
   "id": "6dfc373a",
   "metadata": {},
   "outputs": [],
   "source": [
    "#extracting the column of reviews into a separate dataframe and clean it for semantic analysis\n",
    "from nltk.stem import WordNetLemmatizer\n",
    "from nltk.corpus import stopwords\n",
    "lemma = WordNetLemmatizer()\n",
    "\n",
    "reviews_data = df.reviews.str.strip(\"✅ Trip Verified |\")\n",
    "\n",
    "#create an empty list to collect cleaned data corpus for text analysis\n",
    "corpus =[]\n",
    "\n",
    "#loop through each review, remove punctuations, lower case it, join it and add it to corpus\n",
    "for rev in reviews_data:\n",
    "    rev = re.sub('[^a-zA-Z]',' ', rev)\n",
    "    rev = rev.lower()\n",
    "    rev = rev.split()\n",
    "    rev = [lemma.lemmatize(word) for word in rev if word not in set(stopwords.words(\"english\"))]\n",
    "    rev = \" \".join(rev)\n",
    "    corpus.append(rev)"
   ]
  },
  {
   "cell_type": "code",
   "execution_count": 47,
   "id": "c5e5e215",
   "metadata": {},
   "outputs": [],
   "source": [
    "df['corpus'] = corpus"
   ]
  },
  {
   "cell_type": "code",
   "execution_count": 48,
   "id": "9a5f74d8",
   "metadata": {},
   "outputs": [
    {
     "data": {
      "text/html": [
       "<div>\n",
       "<style scoped>\n",
       "    .dataframe tbody tr th:only-of-type {\n",
       "        vertical-align: middle;\n",
       "    }\n",
       "\n",
       "    .dataframe tbody tr th {\n",
       "        vertical-align: top;\n",
       "    }\n",
       "\n",
       "    .dataframe thead th {\n",
       "        text-align: right;\n",
       "    }\n",
       "</style>\n",
       "<table border=\"1\" class=\"dataframe\">\n",
       "  <thead>\n",
       "    <tr style=\"text-align: right;\">\n",
       "      <th></th>\n",
       "      <th>reviews</th>\n",
       "      <th>stars</th>\n",
       "      <th>date</th>\n",
       "      <th>country</th>\n",
       "      <th>verified</th>\n",
       "      <th>corpus</th>\n",
       "    </tr>\n",
       "  </thead>\n",
       "  <tbody>\n",
       "    <tr>\n",
       "      <th>0</th>\n",
       "      <td>✅ Trip Verified |  I flew London to Malaga on ...</td>\n",
       "      <td>\\n\\t\\t\\t\\t\\t\\t\\t\\t\\t\\t\\t\\t\\t5</td>\n",
       "      <td>2023-08-30</td>\n",
       "      <td>United Kingdom</td>\n",
       "      <td>True</td>\n",
       "      <td>flew london malaga august club europe stood ar...</td>\n",
       "    </tr>\n",
       "    <tr>\n",
       "      <th>1</th>\n",
       "      <td>✅ Trip Verified |  I arrived at the airport ab...</td>\n",
       "      <td>1</td>\n",
       "      <td>2023-08-30</td>\n",
       "      <td>Germany</td>\n",
       "      <td>True</td>\n",
       "      <td>arrived airport hour takeoff time get checked ...</td>\n",
       "    </tr>\n",
       "    <tr>\n",
       "      <th>2</th>\n",
       "      <td>✅ Trip Verified |  Filthy plane, cabin staff o...</td>\n",
       "      <td>1</td>\n",
       "      <td>2023-08-28</td>\n",
       "      <td>United Kingdom</td>\n",
       "      <td>True</td>\n",
       "      <td>filthy plane cabin staff ok appalling customer...</td>\n",
       "    </tr>\n",
       "    <tr>\n",
       "      <th>3</th>\n",
       "      <td>✅ Trip Verified |   Chaos at Terminal 5 with B...</td>\n",
       "      <td>1</td>\n",
       "      <td>2023-08-27</td>\n",
       "      <td>United Kingdom</td>\n",
       "      <td>True</td>\n",
       "      <td>chaos terminal ba cancellation delay staff giv...</td>\n",
       "    </tr>\n",
       "    <tr>\n",
       "      <th>4</th>\n",
       "      <td>Not Verified |  BA cancelled our flight and co...</td>\n",
       "      <td>3</td>\n",
       "      <td>2023-08-27</td>\n",
       "      <td>United Kingdom</td>\n",
       "      <td>False</td>\n",
       "      <td>verified ba cancelled flight could book u onto...</td>\n",
       "    </tr>\n",
       "  </tbody>\n",
       "</table>\n",
       "</div>"
      ],
      "text/plain": [
       "                                             reviews  \\\n",
       "0  ✅ Trip Verified |  I flew London to Malaga on ...   \n",
       "1  ✅ Trip Verified |  I arrived at the airport ab...   \n",
       "2  ✅ Trip Verified |  Filthy plane, cabin staff o...   \n",
       "3  ✅ Trip Verified |   Chaos at Terminal 5 with B...   \n",
       "4  Not Verified |  BA cancelled our flight and co...   \n",
       "\n",
       "                           stars       date         country  verified  \\\n",
       "0  \\n\\t\\t\\t\\t\\t\\t\\t\\t\\t\\t\\t\\t\\t5 2023-08-30  United Kingdom      True   \n",
       "1                              1 2023-08-30         Germany      True   \n",
       "2                              1 2023-08-28  United Kingdom      True   \n",
       "3                              1 2023-08-27  United Kingdom      True   \n",
       "4                              3 2023-08-27  United Kingdom     False   \n",
       "\n",
       "                                              corpus  \n",
       "0  flew london malaga august club europe stood ar...  \n",
       "1  arrived airport hour takeoff time get checked ...  \n",
       "2  filthy plane cabin staff ok appalling customer...  \n",
       "3  chaos terminal ba cancellation delay staff giv...  \n",
       "4  verified ba cancelled flight could book u onto...  "
      ]
     },
     "execution_count": 48,
     "metadata": {},
     "output_type": "execute_result"
    }
   ],
   "source": [
    "df.head()"
   ]
  },
  {
   "cell_type": "code",
   "execution_count": 49,
   "id": "5c0614e4",
   "metadata": {},
   "outputs": [
    {
     "data": {
      "text/plain": [
       "reviews             object\n",
       "stars               object\n",
       "date        datetime64[ns]\n",
       "country             object\n",
       "verified              bool\n",
       "corpus              object\n",
       "dtype: object"
      ]
     },
     "execution_count": 49,
     "metadata": {},
     "output_type": "execute_result"
    }
   ],
   "source": [
    "df.dtypes"
   ]
  },
  {
   "cell_type": "code",
   "execution_count": 50,
   "id": "f1ad5a8e",
   "metadata": {},
   "outputs": [],
   "source": [
    "df.date.head()\n",
    "df.date = pd.to_datetime(df.date)\n"
   ]
  },
  {
   "cell_type": "code",
   "execution_count": 51,
   "id": "145a2da4",
   "metadata": {},
   "outputs": [
    {
     "data": {
      "text/plain": [
       "0   2023-08-30\n",
       "1   2023-08-30\n",
       "2   2023-08-28\n",
       "3   2023-08-27\n",
       "4   2023-08-27\n",
       "Name: date, dtype: datetime64[ns]"
      ]
     },
     "execution_count": 51,
     "metadata": {},
     "output_type": "execute_result"
    }
   ],
   "source": [
    "df.date.head()"
   ]
  },
  {
   "cell_type": "code",
   "execution_count": 52,
   "id": "158bc70d",
   "metadata": {},
   "outputs": [
    {
     "data": {
      "text/plain": [
       "array(['\\n\\t\\t\\t\\t\\t\\t\\t\\t\\t\\t\\t\\t\\t5', '1', '3', '8', '4', '7', '2',\n",
       "       '10', '9', '6', '5', 'None'], dtype=object)"
      ]
     },
     "execution_count": 52,
     "metadata": {},
     "output_type": "execute_result"
    }
   ],
   "source": [
    "#check for unique values\n",
    "df.stars.unique()"
   ]
  },
  {
   "cell_type": "code",
   "execution_count": 53,
   "id": "dc81d21c",
   "metadata": {},
   "outputs": [],
   "source": [
    "# remove the \\t and \\n from the ratings\n",
    "df.stars = df.stars.str.strip(\"\\n\\t\\t\\t\\t\\t\\t\\t\\t\\t\\t\\t\\t\\t\")"
   ]
  },
  {
   "cell_type": "code",
   "execution_count": 54,
   "id": "69435a6f",
   "metadata": {},
   "outputs": [
    {
     "data": {
      "text/plain": [
       "array(['5', '1', '3', '8', '4', '7', '2', '10', '9', '6', 'None'],\n",
       "      dtype=object)"
      ]
     },
     "execution_count": 54,
     "metadata": {},
     "output_type": "execute_result"
    }
   ],
   "source": [
    "df.stars.unique()"
   ]
  },
  {
   "cell_type": "code",
   "execution_count": 55,
   "id": "3f7b5721",
   "metadata": {},
   "outputs": [
    {
     "data": {
      "text/plain": [
       "1       1654\n",
       "2        828\n",
       "3        796\n",
       "8        715\n",
       "10       642\n",
       "7        614\n",
       "9        609\n",
       "5        539\n",
       "4        493\n",
       "6        370\n",
       "None      10\n",
       "Name: stars, dtype: int64"
      ]
     },
     "execution_count": 55,
     "metadata": {},
     "output_type": "execute_result"
    }
   ],
   "source": [
    "df.stars.value_counts()"
   ]
  },
  {
   "cell_type": "code",
   "execution_count": 56,
   "id": "ec1d498f",
   "metadata": {},
   "outputs": [],
   "source": [
    "# drop the rows where the value of ratings is None\n",
    "df.drop(df[df.stars == \"None\"].index, axis=0, inplace=True)"
   ]
  },
  {
   "cell_type": "code",
   "execution_count": 57,
   "id": "5500cac1",
   "metadata": {},
   "outputs": [
    {
     "data": {
      "text/plain": [
       "1     1654\n",
       "2      828\n",
       "3      796\n",
       "8      715\n",
       "10     642\n",
       "7      614\n",
       "9      609\n",
       "5      539\n",
       "4      493\n",
       "6      370\n",
       "Name: stars, dtype: int64"
      ]
     },
     "execution_count": 57,
     "metadata": {},
     "output_type": "execute_result"
    }
   ],
   "source": [
    "df.stars.value_counts()"
   ]
  },
  {
   "cell_type": "code",
   "execution_count": 58,
   "id": "cf5e4711",
   "metadata": {},
   "outputs": [
    {
     "data": {
      "text/plain": [
       "reviews  stars  date   country  verified  corpus\n",
       "False    False  False  False    False     False     7256\n",
       "                       True     False     False        4\n",
       "dtype: int64"
      ]
     },
     "execution_count": 58,
     "metadata": {},
     "output_type": "execute_result"
    }
   ],
   "source": [
    "df.isnull().value_counts()"
   ]
  },
  {
   "cell_type": "code",
   "execution_count": 59,
   "id": "bf250397",
   "metadata": {},
   "outputs": [
    {
     "data": {
      "text/plain": [
       "False    7256\n",
       "True        4\n",
       "Name: country, dtype: int64"
      ]
     },
     "execution_count": 59,
     "metadata": {},
     "output_type": "execute_result"
    }
   ],
   "source": [
    "df.country.isnull().value_counts()"
   ]
  },
  {
   "cell_type": "code",
   "execution_count": 60,
   "id": "eaee46d8",
   "metadata": {},
   "outputs": [],
   "source": [
    "#drop the rows using index where the country value is null\n",
    "df.drop(df[df.country.isnull() == True].index, axis=0, inplace=True)"
   ]
  },
  {
   "cell_type": "code",
   "execution_count": 61,
   "id": "48a787a5",
   "metadata": {},
   "outputs": [
    {
     "data": {
      "text/plain": [
       "False    7256\n",
       "Name: country, dtype: int64"
      ]
     },
     "execution_count": 61,
     "metadata": {},
     "output_type": "execute_result"
    }
   ],
   "source": [
    "df.country.isnull().value_counts()"
   ]
  },
  {
   "cell_type": "code",
   "execution_count": 62,
   "id": "816d4839",
   "metadata": {},
   "outputs": [
    {
     "data": {
      "text/plain": [
       "(7256, 6)"
      ]
     },
     "execution_count": 62,
     "metadata": {},
     "output_type": "execute_result"
    }
   ],
   "source": [
    "df.shape"
   ]
  },
  {
   "cell_type": "code",
   "execution_count": 63,
   "id": "eeb76be3",
   "metadata": {},
   "outputs": [
    {
     "data": {
      "text/html": [
       "<div>\n",
       "<style scoped>\n",
       "    .dataframe tbody tr th:only-of-type {\n",
       "        vertical-align: middle;\n",
       "    }\n",
       "\n",
       "    .dataframe tbody tr th {\n",
       "        vertical-align: top;\n",
       "    }\n",
       "\n",
       "    .dataframe thead th {\n",
       "        text-align: right;\n",
       "    }\n",
       "</style>\n",
       "<table border=\"1\" class=\"dataframe\">\n",
       "  <thead>\n",
       "    <tr style=\"text-align: right;\">\n",
       "      <th></th>\n",
       "      <th>reviews</th>\n",
       "      <th>stars</th>\n",
       "      <th>date</th>\n",
       "      <th>country</th>\n",
       "      <th>verified</th>\n",
       "      <th>corpus</th>\n",
       "    </tr>\n",
       "  </thead>\n",
       "  <tbody>\n",
       "    <tr>\n",
       "      <th>0</th>\n",
       "      <td>✅ Trip Verified |  I flew London to Malaga on ...</td>\n",
       "      <td>5</td>\n",
       "      <td>2023-08-30</td>\n",
       "      <td>United Kingdom</td>\n",
       "      <td>True</td>\n",
       "      <td>flew london malaga august club europe stood ar...</td>\n",
       "    </tr>\n",
       "    <tr>\n",
       "      <th>1</th>\n",
       "      <td>✅ Trip Verified |  I arrived at the airport ab...</td>\n",
       "      <td>1</td>\n",
       "      <td>2023-08-30</td>\n",
       "      <td>Germany</td>\n",
       "      <td>True</td>\n",
       "      <td>arrived airport hour takeoff time get checked ...</td>\n",
       "    </tr>\n",
       "    <tr>\n",
       "      <th>2</th>\n",
       "      <td>✅ Trip Verified |  Filthy plane, cabin staff o...</td>\n",
       "      <td>1</td>\n",
       "      <td>2023-08-28</td>\n",
       "      <td>United Kingdom</td>\n",
       "      <td>True</td>\n",
       "      <td>filthy plane cabin staff ok appalling customer...</td>\n",
       "    </tr>\n",
       "    <tr>\n",
       "      <th>3</th>\n",
       "      <td>✅ Trip Verified |   Chaos at Terminal 5 with B...</td>\n",
       "      <td>1</td>\n",
       "      <td>2023-08-27</td>\n",
       "      <td>United Kingdom</td>\n",
       "      <td>True</td>\n",
       "      <td>chaos terminal ba cancellation delay staff giv...</td>\n",
       "    </tr>\n",
       "    <tr>\n",
       "      <th>4</th>\n",
       "      <td>Not Verified |  BA cancelled our flight and co...</td>\n",
       "      <td>3</td>\n",
       "      <td>2023-08-27</td>\n",
       "      <td>United Kingdom</td>\n",
       "      <td>False</td>\n",
       "      <td>verified ba cancelled flight could book u onto...</td>\n",
       "    </tr>\n",
       "    <tr>\n",
       "      <th>...</th>\n",
       "      <td>...</td>\n",
       "      <td>...</td>\n",
       "      <td>...</td>\n",
       "      <td>...</td>\n",
       "      <td>...</td>\n",
       "      <td>...</td>\n",
       "    </tr>\n",
       "    <tr>\n",
       "      <th>7251</th>\n",
       "      <td>Flight from Heathrow to Toronto. Booked emerge...</td>\n",
       "      <td>10</td>\n",
       "      <td>2012-08-29</td>\n",
       "      <td>United Kingdom</td>\n",
       "      <td>False</td>\n",
       "      <td>flight heathrow toronto booked emergency exit ...</td>\n",
       "    </tr>\n",
       "    <tr>\n",
       "      <th>7252</th>\n",
       "      <td>LHR to HAM. Purser addresses all club passenge...</td>\n",
       "      <td>10</td>\n",
       "      <td>2012-08-28</td>\n",
       "      <td>United Kingdom</td>\n",
       "      <td>False</td>\n",
       "      <td>lhr ham purser address club passenger name boa...</td>\n",
       "    </tr>\n",
       "    <tr>\n",
       "      <th>7253</th>\n",
       "      <td>My son who had worked for British Airways urge...</td>\n",
       "      <td>10</td>\n",
       "      <td>2011-10-12</td>\n",
       "      <td>United Kingdom</td>\n",
       "      <td>False</td>\n",
       "      <td>son worked british airway urged fly british ai...</td>\n",
       "    </tr>\n",
       "    <tr>\n",
       "      <th>7254</th>\n",
       "      <td>London City-New York JFK via Shannon on A318 b...</td>\n",
       "      <td>1</td>\n",
       "      <td>2011-10-11</td>\n",
       "      <td>United States</td>\n",
       "      <td>False</td>\n",
       "      <td>london city new york jfk via shannon really ni...</td>\n",
       "    </tr>\n",
       "    <tr>\n",
       "      <th>7255</th>\n",
       "      <td>SIN-LHR BA12 B747-436 First Class. Old aircraf...</td>\n",
       "      <td>4</td>\n",
       "      <td>2011-10-09</td>\n",
       "      <td>United Kingdom</td>\n",
       "      <td>False</td>\n",
       "      <td>sin lhr ba b first class old aircraft seat pri...</td>\n",
       "    </tr>\n",
       "  </tbody>\n",
       "</table>\n",
       "<p>7256 rows × 6 columns</p>\n",
       "</div>"
      ],
      "text/plain": [
       "                                                reviews stars       date  \\\n",
       "0     ✅ Trip Verified |  I flew London to Malaga on ...     5 2023-08-30   \n",
       "1     ✅ Trip Verified |  I arrived at the airport ab...     1 2023-08-30   \n",
       "2     ✅ Trip Verified |  Filthy plane, cabin staff o...     1 2023-08-28   \n",
       "3     ✅ Trip Verified |   Chaos at Terminal 5 with B...     1 2023-08-27   \n",
       "4     Not Verified |  BA cancelled our flight and co...     3 2023-08-27   \n",
       "...                                                 ...   ...        ...   \n",
       "7251  Flight from Heathrow to Toronto. Booked emerge...    10 2012-08-29   \n",
       "7252  LHR to HAM. Purser addresses all club passenge...    10 2012-08-28   \n",
       "7253  My son who had worked for British Airways urge...    10 2011-10-12   \n",
       "7254  London City-New York JFK via Shannon on A318 b...     1 2011-10-11   \n",
       "7255  SIN-LHR BA12 B747-436 First Class. Old aircraf...     4 2011-10-09   \n",
       "\n",
       "             country  verified  \\\n",
       "0     United Kingdom      True   \n",
       "1            Germany      True   \n",
       "2     United Kingdom      True   \n",
       "3     United Kingdom      True   \n",
       "4     United Kingdom     False   \n",
       "...              ...       ...   \n",
       "7251  United Kingdom     False   \n",
       "7252  United Kingdom     False   \n",
       "7253  United Kingdom     False   \n",
       "7254   United States     False   \n",
       "7255  United Kingdom     False   \n",
       "\n",
       "                                                 corpus  \n",
       "0     flew london malaga august club europe stood ar...  \n",
       "1     arrived airport hour takeoff time get checked ...  \n",
       "2     filthy plane cabin staff ok appalling customer...  \n",
       "3     chaos terminal ba cancellation delay staff giv...  \n",
       "4     verified ba cancelled flight could book u onto...  \n",
       "...                                                 ...  \n",
       "7251  flight heathrow toronto booked emergency exit ...  \n",
       "7252  lhr ham purser address club passenger name boa...  \n",
       "7253  son worked british airway urged fly british ai...  \n",
       "7254  london city new york jfk via shannon really ni...  \n",
       "7255  sin lhr ba b first class old aircraft seat pri...  \n",
       "\n",
       "[7256 rows x 6 columns]"
      ]
     },
     "execution_count": 63,
     "metadata": {},
     "output_type": "execute_result"
    }
   ],
   "source": [
    "#resetting the index\n",
    "df.reset_index(drop=True)"
   ]
  },
  {
   "cell_type": "code",
   "execution_count": 64,
   "id": "300efded",
   "metadata": {},
   "outputs": [],
   "source": [
    "# export the cleaned data\n",
    "\n",
    "df.to_csv(cwd + \"/cleanedReviews.csv\")"
   ]
  },
  {
   "cell_type": "code",
   "execution_count": null,
   "id": "3228dfc3",
   "metadata": {},
   "outputs": [],
   "source": []
  }
 ],
 "metadata": {
  "kernelspec": {
   "display_name": "Python 3 (ipykernel)",
   "language": "python",
   "name": "python3"
  },
  "language_info": {
   "codemirror_mode": {
    "name": "ipython",
    "version": 3
   },
   "file_extension": ".py",
   "mimetype": "text/x-python",
   "name": "python",
   "nbconvert_exporter": "python",
   "pygments_lexer": "ipython3",
   "version": "3.10.9"
  }
 },
 "nbformat": 4,
 "nbformat_minor": 5
}
